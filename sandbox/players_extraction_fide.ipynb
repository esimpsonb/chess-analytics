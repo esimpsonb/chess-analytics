{
 "cells": [
  {
   "cell_type": "code",
   "execution_count": 2,
   "id": "ac371144",
   "metadata": {},
   "outputs": [],
   "source": [
    "import requests\n",
    "from bs4 import BeautifulSoup\n",
    "import pandas as pd\n",
    "from datetime import date\n",
    "import os\n",
    "\n"
   ]
  },
  {
   "cell_type": "code",
   "execution_count": 8,
   "id": "86eee76f",
   "metadata": {},
   "outputs": [],
   "source": [
    "def obtener_listas_disponibles():\n",
    "    \"\"\"Lee el select de top_lists.phtml y devuelve {codigo: nombre}.\"\"\"\n",
    "    url = \"https://ratings.fide.com/top_lists.phtml\"\n",
    "    r = requests.get(url)\n",
    "    soup = BeautifulSoup(r.text, \"html.parser\")\n",
    "\n",
    "    listas = {}\n",
    "    for opt in soup.select(\"select#select_top option\"):\n",
    "        codigo = opt[\"value\"]\n",
    "        nombre = opt.get_text(strip=True)\n",
    "        listas[codigo] = nombre\n",
    "    return listas\n"
   ]
  },
  {
   "cell_type": "code",
   "execution_count": 11,
   "id": "068251cf",
   "metadata": {},
   "outputs": [],
   "source": [
    "def obtener_ranking(codigo, nombre):\n",
    "    \"\"\"Scrapea una tabla de ranking FIDE para una lista concreta.\"\"\"\n",
    "    url = f\"https://ratings.fide.com/a_top.php?list={codigo}\"\n",
    "    r = requests.get(url)\n",
    "    soup = BeautifulSoup(r.text, \"html.parser\")\n",
    "\n",
    "    tabla = soup.find(\"table\", {\"class\": \"top_recors_table\"})\n",
    "    if not tabla:\n",
    "        return pd.DataFrame()\n",
    "\n",
    "    jugadores = []\n",
    "    for fila in tabla.find_all(\"tr\")[1:]:\n",
    "        celdas = [c.get_text(strip=True) for c in fila.find_all(\"td\")]\n",
    "        if len(celdas) == 5:  # rank, name, fed, elo, birth\n",
    "            jugadores.append({\n",
    "                \"rank\": celdas[0],\n",
    "                \"name\": celdas[1],\n",
    "                \"federation\": celdas[2],\n",
    "                \"elo\": celdas[3],\n",
    "                \"birth_year\": celdas[4],\n",
    "                \"list\": nombre,\n",
    "                \"scraping_date\": date.today().isoformat()\n",
    "            })\n",
    "    return pd.DataFrame(jugadores)"
   ]
  },
  {
   "cell_type": "code",
   "execution_count": 12,
   "id": "f5cd9bc2",
   "metadata": {},
   "outputs": [],
   "source": [
    "listas = obtener_listas_disponibles()"
   ]
  },
  {
   "cell_type": "code",
   "execution_count": 13,
   "id": "b8b9f46a",
   "metadata": {},
   "outputs": [
    {
     "name": "stdout",
     "output_type": "stream",
     "text": [
      "Scrapeando Open...\n",
      "Scrapeando Women...\n",
      "Scrapeando Juniors...\n",
      "Scrapeando Girls...\n",
      "Scrapeando Rapid Open...\n",
      "Scrapeando Rapid Women...\n",
      "Scrapeando Rapid Juniors...\n",
      "Scrapeando Rapid Girls...\n",
      "Scrapeando Blitz Open...\n",
      "Scrapeando Blitz Women...\n",
      "Scrapeando Blitz Juniors...\n",
      "Scrapeando Blitz Girls...\n"
     ]
    }
   ],
   "source": [
    "dfs = []\n",
    "for codigo, nombre in listas.items():\n",
    "    print(f\"Scrapeando {nombre}...\")\n",
    "    dfs.append(obtener_ranking(codigo, nombre))\n",
    "\n",
    "df_final = pd.concat(dfs, ignore_index=True)"
   ]
  },
  {
   "cell_type": "code",
   "execution_count": 18,
   "id": "7466db30",
   "metadata": {},
   "outputs": [],
   "source": [
    "ruta = os.path.join(\"..\", \"data\", \"fide_rankings.csv\")\n",
    "df_final.to_csv(ruta, index=False, encoding=\"utf-8\")"
   ]
  },
  {
   "cell_type": "code",
   "execution_count": 9,
   "id": "29093591",
   "metadata": {},
   "outputs": [],
   "source": [
    "def get_chesscom_games(username, year, month):\n",
    "    url = f\"https://api.chess.com/pub/player/{username}/games/{year}/{month:02d}\"\n",
    "    headers = {\n",
    "        \"User-Agent\": \"Mozilla/5.0 (X11; Linux x86_64) AppleWebKit/537.36 \"\n",
    "                      \"(KHTML, like Gecko) Chrome/120.0.0.0 Safari/537.36\"\n",
    "    }\n",
    "\n",
    "    r = requests.get(url, headers=headers)\n",
    "    if r.status_code != 200:\n",
    "        return pd.DataFrame()\n",
    "\n",
    "    data = r.json()\n",
    "    if \"games\" not in data or not data[\"games\"]:\n",
    "        return pd.DataFrame()\n",
    "\n",
    "    return pd.DataFrame(data[\"games\"])\n"
   ]
  },
  {
   "cell_type": "code",
   "execution_count": 10,
   "id": "1d824e8a",
   "metadata": {},
   "outputs": [],
   "source": [
    "df_cc = get_chesscom_games(\"MagnusCarlsen\", 2024, 12)\n"
   ]
  },
  {
   "cell_type": "code",
   "execution_count": 12,
   "id": "f246ce62",
   "metadata": {},
   "outputs": [
    {
     "data": {
      "text/html": [
       "<div>\n",
       "<style scoped>\n",
       "    .dataframe tbody tr th:only-of-type {\n",
       "        vertical-align: middle;\n",
       "    }\n",
       "\n",
       "    .dataframe tbody tr th {\n",
       "        vertical-align: top;\n",
       "    }\n",
       "\n",
       "    .dataframe thead th {\n",
       "        text-align: right;\n",
       "    }\n",
       "</style>\n",
       "<table border=\"1\" class=\"dataframe\">\n",
       "  <thead>\n",
       "    <tr style=\"text-align: right;\">\n",
       "      <th></th>\n",
       "      <th>url</th>\n",
       "      <th>pgn</th>\n",
       "      <th>time_control</th>\n",
       "      <th>end_time</th>\n",
       "      <th>rated</th>\n",
       "      <th>accuracies</th>\n",
       "      <th>tcn</th>\n",
       "      <th>uuid</th>\n",
       "      <th>initial_setup</th>\n",
       "      <th>fen</th>\n",
       "      <th>time_class</th>\n",
       "      <th>rules</th>\n",
       "      <th>white</th>\n",
       "      <th>black</th>\n",
       "      <th>eco</th>\n",
       "      <th>tournament</th>\n",
       "    </tr>\n",
       "  </thead>\n",
       "  <tbody>\n",
       "    <tr>\n",
       "      <th>0</th>\n",
       "      <td>https://www.chess.com/game/live/126898219067</td>\n",
       "      <td>[Event \"Live Chess\"]\\n[Site \"Chess.com\"]\\n[Dat...</td>\n",
       "      <td>180</td>\n",
       "      <td>1733159429</td>\n",
       "      <td>True</td>\n",
       "      <td>{'white': 87.95, 'black': 73.23}</td>\n",
       "      <td>lB!TgvYIBJXHcM7PiyHybsPjsyjzkszCyP6XP4X4dbCbab...</td>\n",
       "      <td>13fe8d0b-b0d0-11ef-90b3-6cfe544c0428</td>\n",
       "      <td>rnbqkbnr/pppppppp/8/8/8/8/PPPPPPPP/RNBQKBNR w ...</td>\n",
       "      <td>b1R2b1r/p1np1ppp/3k1p2/2pP4/4P3/2P5/3N1PPP/4KB...</td>\n",
       "      <td>blitz</td>\n",
       "      <td>chess</td>\n",
       "      <td>{'rating': 3221, 'result': 'win', '@id': 'http...</td>\n",
       "      <td>{'rating': 3318, 'result': 'resigned', '@id': ...</td>\n",
       "      <td>https://www.chess.com/openings/Indian-Game-Spi...</td>\n",
       "      <td>NaN</td>\n",
       "    </tr>\n",
       "    <tr>\n",
       "      <th>1</th>\n",
       "      <td>https://www.chess.com/game/live/126898243379</td>\n",
       "      <td>[Event \"Live Chess\"]\\n[Site \"Chess.com\"]\\n[Dat...</td>\n",
       "      <td>180</td>\n",
       "      <td>1733159767</td>\n",
       "      <td>True</td>\n",
       "      <td>{'white': 92.82, 'black': 92.36}</td>\n",
       "      <td>mC0Kgv5QfA!Tlt90eg8!ksZJCJTJfe6EblJPpxENAr7tvK...</td>\n",
       "      <td>5713b539-b0d0-11ef-90b3-6cfe544c0428</td>\n",
       "      <td>rnbqkbnr/pppppppp/8/8/8/8/PPPPPPPP/RNBQKBNR w ...</td>\n",
       "      <td>8/1Kp5/4k3/4P2R/1P6/8/8/1r6 w - -</td>\n",
       "      <td>blitz</td>\n",
       "      <td>chess</td>\n",
       "      <td>{'rating': 3316, 'result': 'agreed', '@id': 'h...</td>\n",
       "      <td>{'rating': 3223, 'result': 'agreed', '@id': 'h...</td>\n",
       "      <td>https://www.chess.com/openings/Italian-Game-Tw...</td>\n",
       "      <td>NaN</td>\n",
       "    </tr>\n",
       "  </tbody>\n",
       "</table>\n",
       "</div>"
      ],
      "text/plain": [
       "                                            url  \\\n",
       "0  https://www.chess.com/game/live/126898219067   \n",
       "1  https://www.chess.com/game/live/126898243379   \n",
       "\n",
       "                                                 pgn time_control    end_time  \\\n",
       "0  [Event \"Live Chess\"]\\n[Site \"Chess.com\"]\\n[Dat...          180  1733159429   \n",
       "1  [Event \"Live Chess\"]\\n[Site \"Chess.com\"]\\n[Dat...          180  1733159767   \n",
       "\n",
       "   rated                        accuracies  \\\n",
       "0   True  {'white': 87.95, 'black': 73.23}   \n",
       "1   True  {'white': 92.82, 'black': 92.36}   \n",
       "\n",
       "                                                 tcn  \\\n",
       "0  lB!TgvYIBJXHcM7PiyHybsPjsyjzkszCyP6XP4X4dbCbab...   \n",
       "1  mC0Kgv5QfA!Tlt90eg8!ksZJCJTJfe6EblJPpxENAr7tvK...   \n",
       "\n",
       "                                   uuid  \\\n",
       "0  13fe8d0b-b0d0-11ef-90b3-6cfe544c0428   \n",
       "1  5713b539-b0d0-11ef-90b3-6cfe544c0428   \n",
       "\n",
       "                                       initial_setup  \\\n",
       "0  rnbqkbnr/pppppppp/8/8/8/8/PPPPPPPP/RNBQKBNR w ...   \n",
       "1  rnbqkbnr/pppppppp/8/8/8/8/PPPPPPPP/RNBQKBNR w ...   \n",
       "\n",
       "                                                 fen time_class  rules  \\\n",
       "0  b1R2b1r/p1np1ppp/3k1p2/2pP4/4P3/2P5/3N1PPP/4KB...      blitz  chess   \n",
       "1                  8/1Kp5/4k3/4P2R/1P6/8/8/1r6 w - -      blitz  chess   \n",
       "\n",
       "                                               white  \\\n",
       "0  {'rating': 3221, 'result': 'win', '@id': 'http...   \n",
       "1  {'rating': 3316, 'result': 'agreed', '@id': 'h...   \n",
       "\n",
       "                                               black  \\\n",
       "0  {'rating': 3318, 'result': 'resigned', '@id': ...   \n",
       "1  {'rating': 3223, 'result': 'agreed', '@id': 'h...   \n",
       "\n",
       "                                                 eco tournament  \n",
       "0  https://www.chess.com/openings/Indian-Game-Spi...        NaN  \n",
       "1  https://www.chess.com/openings/Italian-Game-Tw...        NaN  "
      ]
     },
     "execution_count": 12,
     "metadata": {},
     "output_type": "execute_result"
    }
   ],
   "source": [
    "df_cc.head(2)"
   ]
  }
 ],
 "metadata": {
  "kernelspec": {
   "display_name": "base",
   "language": "python",
   "name": "python3"
  },
  "language_info": {
   "codemirror_mode": {
    "name": "ipython",
    "version": 3
   },
   "file_extension": ".py",
   "mimetype": "text/x-python",
   "name": "python",
   "nbconvert_exporter": "python",
   "pygments_lexer": "ipython3",
   "version": "3.11.7"
  }
 },
 "nbformat": 4,
 "nbformat_minor": 5
}
